{
 "cells": [
  {
   "cell_type": "code",
   "execution_count": null,
   "id": "de74fa09",
   "metadata": {},
   "outputs": [],
   "source": [
    "# Import necessary libraries\n",
    "import pandas as pd\n",
    "import numpy as np\n",
    "import matplotlib.pyplot as plt\n",
    "import seaborn as sns\n",
    "from sklearn.model_selection import train_test_split\n",
    "from sklearn.preprocessing import StandardScaler\n",
    "from sklearn.linear_model import LinearRegression\n",
    "from sklearn.metrics import r2_score, mean_squared_error"
   ]
  },
  {
   "cell_type": "code",
   "execution_count": null,
   "id": "0cc5f5f1",
   "metadata": {},
   "outputs": [],
   "source": [
    "# Load the dataset\n",
    "data = pd.read_csv('/mnt/data/day.csv')\n",
    "\n",
    "# Display the first few rows of the dataset\n",
    "data.head()"
   ]
  },
  {
   "cell_type": "code",
   "execution_count": null,
   "id": "d092fbee",
   "metadata": {},
   "outputs": [],
   "source": [
    "# Data Quality Checks\n",
    "print(data.info())\n",
    "print(data.describe())\n",
    "print(data.isnull().sum())\n",
    "print(data.duplicated().sum())\n",
    "\n",
    "# Handle duplicates\n",
    "data.drop_duplicates(inplace=True)"
   ]
  },
  {
   "cell_type": "code",
   "execution_count": null,
   "id": "05b8fda3",
   "metadata": {},
   "outputs": [],
   "source": [
    "# Convert numeric categories to strings based on the data dictionary\n",
    "data['season'] = data['season'].map({1: 'spring', 2: 'summer', 3: 'fall', 4: 'winter'})\n",
    "data['weathersit'] = data['weathersit'].map({1: 'clear', 2: 'mist', 3: 'light_rain', 4: 'heavy_rain'})"
   ]
  },
  {
   "cell_type": "code",
   "execution_count": null,
   "id": "436a2f8f",
   "metadata": {},
   "outputs": [],
   "source": [
    "# Exploratory Data Analysis (EDA)\n",
    "sns.histplot(data['cnt'])\n",
    "plt.title('Distribution of Total Bike Rentals')\n",
    "plt.show()\n",
    "\n",
    "sns.boxplot(data['cnt'])\n",
    "plt.title('Boxplot of Total Bike Rentals')\n",
    "plt.show()\n",
    "\n",
    "sns.pairplot(data[['temp', 'atemp', 'hum', 'windspeed', 'cnt']])\n",
    "plt.show()"
   ]
  },
  {
   "cell_type": "code",
   "execution_count": null,
   "id": "1355b740",
   "metadata": {},
   "outputs": [],
   "source": [
    "# Create Dummy Variables\n",
    "data = pd.get_dummies(data, columns=['season', 'weathersit'], drop_first=True)"
   ]
  },
  {
   "cell_type": "code",
   "execution_count": null,
   "id": "d7f1d364",
   "metadata": {},
   "outputs": [],
   "source": [
    "# Prepare Data for Modeling\n",
    "X = data.drop(['dteday', 'instant', 'casual', 'registered', 'cnt'], axis=1)\n",
    "y = data['cnt']\n",
    "X_train, X_test, y_train, y_test = train_test_split(X, y, test_size=0.2, random_state=42)\n",
    "\n",
    "# Scale the numerical features\n",
    "scaler = StandardScaler()\n",
    "X_train_scaled = scaler.fit_transform(X_train)\n",
    "X_test_scaled = scaler.transform(X_test)"
   ]
  },
  {
   "cell_type": "code",
   "execution_count": null,
   "id": "f16f9e32",
   "metadata": {},
   "outputs": [],
   "source": [
    "# Build the Multiple Linear Regression Model\n",
    "model = LinearRegression()\n",
    "model.fit(X_train_scaled, y_train)\n",
    "\n",
    "# Predict on the test set\n",
    "y_test_pred = model.predict(X_test_scaled)\n",
    "\n",
    "# Calculate R-squared score on the test set\n",
    "test_r2 = r2_score(y_test, y_test_pred)\n",
    "print(\"Test R-squared:\", test_r2)\n",
    "\n",
    "# Calculate RMSE on the test set\n",
    "rmse = np.sqrt(mean_squared_error(y_test, y_test_pred))\n",
    "print(\"Test RMSE:\", rmse)"
   ]
  },
  {
   "cell_type": "code",
   "execution_count": null,
   "id": "403aec8f",
   "metadata": {},
   "outputs": [],
   "source": [
    "# Residual Analysis\n",
    "residuals = y_test - y_test_pred\n",
    "sns.histplot(residuals, kde=True)\n",
    "plt.title('Residuals Distribution')\n",
    "plt.show()\n",
    "\n",
    "sns.scatterplot(x=y_test_pred, y=residuals)\n",
    "plt.axhline(y=0, color='r', linestyle='--')\n",
    "plt.title('Residuals vs Predicted')\n",
    "plt.show()"
   ]
  },
  {
   "cell_type": "code",
   "execution_count": null,
   "id": "6c1fe95d",
   "metadata": {},
   "outputs": [],
   "source": [
    "# Model Interpretation\n",
    "coefficients = pd.DataFrame(model.coef_, X.columns, columns=['Coefficient'])\n",
    "print(coefficients)\n",
    "\n",
    "# Save the model coefficients to a file\n",
    "coefficients.to_csv('/mnt/data/model_coefficients.csv', index=False)"
   ]
  }
 ],
 "metadata": {},
 "nbformat": 4,
 "nbformat_minor": 5
}
